{
 "cells": [
  {
   "cell_type": "markdown",
   "metadata": {},
   "source": [
    "Problema  #1"
   ]
  },
  {
   "cell_type": "code",
   "execution_count": 1,
   "metadata": {},
   "outputs": [
    {
     "name": "stdout",
     "output_type": "stream",
     "text": [
      "¡Alerta! ¡Un asteroide se acerca a velocidades peligrosas!\n"
     ]
    }
   ],
   "source": [
    "asteroide = 49\n",
    "if asteroide> 25:\n",
    "    print('¡Alerta! ¡Un asteroide se acerca a velocidades peligrosas!')\n",
    "else:\n",
    "      print('¡Sigue con tu dia!')\n"
   ]
  },
  {
   "cell_type": "markdown",
   "metadata": {},
   "source": [
    "Problema #2"
   ]
  },
  {
   "cell_type": "code",
   "execution_count": 2,
   "metadata": {},
   "outputs": [
    {
     "name": "stdout",
     "output_type": "stream",
     "text": [
      "¡Nada que ver aqui!\n"
     ]
    }
   ],
   "source": [
    "asteroide = 19\n",
    "if asteroide >= 20:\n",
    "    print('¡Look Up! ¡Hay una luz magica en el cielo!')\n",
    "elif asteroide == 20:\n",
    "    print('¡Look Up! ¡Hay una luz magica en el cielo!')\n",
    "else:\n",
    "    print('¡Nada que ver aqui!')\n"
   ]
  },
  {
   "cell_type": "markdown",
   "metadata": {},
   "source": [
    "Problema #3"
   ]
  },
  {
   "cell_type": "code",
   "execution_count": 15,
   "metadata": {},
   "outputs": [
    {
     "name": "stdout",
     "output_type": "stream",
     "text": [
      "¡Alerta! ¡Un asteroide muy peligroso se acerca a la tierra!\n"
     ]
    }
   ],
   "source": [
    "velocidad_asteroide = 26\n",
    "tamaño_asteroide = 10000\n",
    "if velocidad_asteroide>25 and tamaño_asteroide>25:\n",
    "    print('¡Alerta! ¡Un asteroide muy peligroso se acerca a la tierra!')\n",
    "elif velocidad_asteroide>=20:\n",
    "    print('¡Look Up! ¡Hay una luz magica en el cielo!')\n",
    "elif tamaño_asteroide<25:\n",
    "    print('Nada que ver aqui')\n",
    "else:\n",
    "    print('Nada que ver aqui')\n",
    "\n",
    "      "
   ]
  }
 ],
 "metadata": {
  "interpreter": {
   "hash": "2be5faf79681da6f2a61fdfdd5405d65d042280f7fba6178067603e3a2925119"
  },
  "kernelspec": {
   "display_name": "Python 3.10.2 64-bit",
   "language": "python",
   "name": "python3"
  },
  "language_info": {
   "codemirror_mode": {
    "name": "ipython",
    "version": 3
   },
   "file_extension": ".py",
   "mimetype": "text/x-python",
   "name": "python",
   "nbconvert_exporter": "python",
   "pygments_lexer": "ipython3",
   "version": "3.10.2"
  },
  "orig_nbformat": 4
 },
 "nbformat": 4,
 "nbformat_minor": 2
}
